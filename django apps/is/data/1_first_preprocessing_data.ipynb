{
 "cells": [
  {
   "cell_type": "code",
   "execution_count": 12,
   "metadata": {},
   "outputs": [],
   "source": [
    "import pandas as pd\n",
    "from sklearn.preprocessing import MultiLabelBinarizer\n",
    "import json"
   ]
  },
  {
   "cell_type": "code",
   "execution_count": 2,
   "metadata": {},
   "outputs": [],
   "source": [
    "df = pd.read_json('./(amazon data) book_all_best_001_050.jl', lines=True)"
   ]
  },
  {
   "cell_type": "code",
   "execution_count": 3,
   "metadata": {},
   "outputs": [
    {
     "data": {
      "text/html": [
       "<div>\n",
       "<style scoped>\n",
       "    .dataframe tbody tr th:only-of-type {\n",
       "        vertical-align: middle;\n",
       "    }\n",
       "\n",
       "    .dataframe tbody tr th {\n",
       "        vertical-align: top;\n",
       "    }\n",
       "\n",
       "    .dataframe thead th {\n",
       "        text-align: right;\n",
       "    }\n",
       "</style>\n",
       "<table border=\"1\" class=\"dataframe\">\n",
       "  <thead>\n",
       "    <tr style=\"text-align: right;\">\n",
       "      <th></th>\n",
       "      <th>url</th>\n",
       "      <th>title</th>\n",
       "      <th>titleComplete</th>\n",
       "      <th>description</th>\n",
       "      <th>imageUrl</th>\n",
       "      <th>genres</th>\n",
       "      <th>asin</th>\n",
       "      <th>publisher</th>\n",
       "      <th>author</th>\n",
       "      <th>publishDate</th>\n",
       "      <th>...</th>\n",
       "      <th>places</th>\n",
       "      <th>ratingHistogram</th>\n",
       "      <th>ratingsCount</th>\n",
       "      <th>reviewsCount</th>\n",
       "      <th>numPages</th>\n",
       "      <th>language</th>\n",
       "      <th>awards</th>\n",
       "      <th>isbn</th>\n",
       "      <th>isbn13</th>\n",
       "      <th>series</th>\n",
       "    </tr>\n",
       "  </thead>\n",
       "  <tbody>\n",
       "    <tr>\n",
       "      <th>0</th>\n",
       "      <td>https://www.goodreads.com/book/show/6334.Never...</td>\n",
       "      <td>Never Let Me Go</td>\n",
       "      <td>Never Let Me Go</td>\n",
       "      <td>Hailsham seems like a pleasant English boardin...</td>\n",
       "      <td>https://images-na.ssl-images-amazon.com/images...</td>\n",
       "      <td>[Adult, Science Fiction, Fiction, Novels, Audi...</td>\n",
       "      <td>1400078776</td>\n",
       "      <td>Vintage Books</td>\n",
       "      <td>[Kazuo Ishiguro]</td>\n",
       "      <td>1.283238e+12</td>\n",
       "      <td>...</td>\n",
       "      <td>[Hailsham, England, United Kingdom]</td>\n",
       "      <td>[17588, 53364, 171381, 270117, 219792]</td>\n",
       "      <td>732242.0</td>\n",
       "      <td>57475.0</td>\n",
       "      <td>288.0</td>\n",
       "      <td>English</td>\n",
       "      <td>[{'name': 'Booker Prize', 'awardedAt': 1104566...</td>\n",
       "      <td>NaN</td>\n",
       "      <td>NaN</td>\n",
       "      <td>NaN</td>\n",
       "    </tr>\n",
       "    <tr>\n",
       "      <th>1</th>\n",
       "      <td>https://www.goodreads.com/book/show/46787.Uncl...</td>\n",
       "      <td>Uncle Tom’s Cabin</td>\n",
       "      <td>Uncle Tom’s Cabin</td>\n",
       "      <td>The narrative drive of Stowe's classic novel i...</td>\n",
       "      <td>https://images-na.ssl-images-amazon.com/images...</td>\n",
       "      <td>[Classic Literature, American, Fiction, Litera...</td>\n",
       "      <td>NaN</td>\n",
       "      <td>Wordsworth Classics</td>\n",
       "      <td>[Harriet Beecher Stowe]</td>\n",
       "      <td>9.338364e+11</td>\n",
       "      <td>...</td>\n",
       "      <td>[Louisiana, United States, Kentucky]</td>\n",
       "      <td>[5101, 15300, 53974, 77872, 78723]</td>\n",
       "      <td>230970.0</td>\n",
       "      <td>10096.0</td>\n",
       "      <td>438.0</td>\n",
       "      <td>English</td>\n",
       "      <td>NaN</td>\n",
       "      <td>NaN</td>\n",
       "      <td>NaN</td>\n",
       "      <td>NaN</td>\n",
       "    </tr>\n",
       "    <tr>\n",
       "      <th>2</th>\n",
       "      <td>https://www.goodreads.com/book/show/7244.The_P...</td>\n",
       "      <td>The Poisonwood Bible</td>\n",
       "      <td>The Poisonwood Bible</td>\n",
       "      <td>The Poisonwood Bible is a story told by the wi...</td>\n",
       "      <td>https://images-na.ssl-images-amazon.com/images...</td>\n",
       "      <td>[Adult Fiction, Fiction, Literature, Novels, R...</td>\n",
       "      <td>NaN</td>\n",
       "      <td>Harper Perennial Modern Classics</td>\n",
       "      <td>[Barbara Kingsolver]</td>\n",
       "      <td>1.117523e+12</td>\n",
       "      <td>...</td>\n",
       "      <td>[Sanderling Island, Georgia, Leopoldville, Kil...</td>\n",
       "      <td>[24115, 39666, 115321, 234843, 342623]</td>\n",
       "      <td>756568.0</td>\n",
       "      <td>28599.0</td>\n",
       "      <td>546.0</td>\n",
       "      <td>English</td>\n",
       "      <td>[{'name': 'Pulitzer Prize', 'awardedAt': 91517...</td>\n",
       "      <td>NaN</td>\n",
       "      <td>NaN</td>\n",
       "      <td>NaN</td>\n",
       "    </tr>\n",
       "    <tr>\n",
       "      <th>3</th>\n",
       "      <td>https://www.goodreads.com/book/show/2184798.Bl...</td>\n",
       "      <td>Blood River: A Journey to Africa’s Broken Heart</td>\n",
       "      <td>Blood River: A Journey to Africa’s Broken Heart</td>\n",
       "      <td>A compulsively readable account of a journey t...</td>\n",
       "      <td>https://images-na.ssl-images-amazon.com/images...</td>\n",
       "      <td>[Nonfiction, Memoir, Politics, Africa, Travel,...</td>\n",
       "      <td>0099494280</td>\n",
       "      <td>Vintage</td>\n",
       "      <td>[Tim Butcher]</td>\n",
       "      <td>1.211872e+12</td>\n",
       "      <td>...</td>\n",
       "      <td>[Congo]</td>\n",
       "      <td>[369, 542, 2103, 4488, 4050]</td>\n",
       "      <td>11552.0</td>\n",
       "      <td>845.0</td>\n",
       "      <td>363.0</td>\n",
       "      <td>English</td>\n",
       "      <td>[{'name': 'Ryszard Kapuściński Prize', 'awarde...</td>\n",
       "      <td>0099494280</td>\n",
       "      <td>9.780099e+12</td>\n",
       "      <td>NaN</td>\n",
       "    </tr>\n",
       "    <tr>\n",
       "      <th>4</th>\n",
       "      <td>https://www.goodreads.com/book/show/9532.Ender...</td>\n",
       "      <td>Ender's Shadow</td>\n",
       "      <td>Ender's Shadow (The Shadow Series, #1)</td>\n",
       "      <td>Welcome to Battleschool.Growing up is never ea...</td>\n",
       "      <td>https://images-na.ssl-images-amazon.com/images...</td>\n",
       "      <td>[Science Fiction Fantasy, Fiction, Science Fic...</td>\n",
       "      <td>B001RKZUHK</td>\n",
       "      <td>Starscape</td>\n",
       "      <td>[Orson Scott Card]</td>\n",
       "      <td>1.021792e+12</td>\n",
       "      <td>...</td>\n",
       "      <td>[Rotterdam, Battle School]</td>\n",
       "      <td>[1342, 3889, 21190, 59508, 88217]</td>\n",
       "      <td>174146.0</td>\n",
       "      <td>5922.0</td>\n",
       "      <td>469.0</td>\n",
       "      <td>English</td>\n",
       "      <td>[{'name': 'Locus Award', 'awardedAt': 94671360...</td>\n",
       "      <td>0765342405</td>\n",
       "      <td>9.780765e+12</td>\n",
       "      <td>[The Enderverse, The Shadow, Enderverse:  Publ...</td>\n",
       "    </tr>\n",
       "  </tbody>\n",
       "</table>\n",
       "<p>5 rows × 21 columns</p>\n",
       "</div>"
      ],
      "text/plain": [
       "                                                 url  \\\n",
       "0  https://www.goodreads.com/book/show/6334.Never...   \n",
       "1  https://www.goodreads.com/book/show/46787.Uncl...   \n",
       "2  https://www.goodreads.com/book/show/7244.The_P...   \n",
       "3  https://www.goodreads.com/book/show/2184798.Bl...   \n",
       "4  https://www.goodreads.com/book/show/9532.Ender...   \n",
       "\n",
       "                                             title  \\\n",
       "0                                  Never Let Me Go   \n",
       "1                                Uncle Tom’s Cabin   \n",
       "2                             The Poisonwood Bible   \n",
       "3  Blood River: A Journey to Africa’s Broken Heart   \n",
       "4                                   Ender's Shadow   \n",
       "\n",
       "                                     titleComplete  \\\n",
       "0                                  Never Let Me Go   \n",
       "1                                Uncle Tom’s Cabin   \n",
       "2                             The Poisonwood Bible   \n",
       "3  Blood River: A Journey to Africa’s Broken Heart   \n",
       "4           Ender's Shadow (The Shadow Series, #1)   \n",
       "\n",
       "                                         description  \\\n",
       "0  Hailsham seems like a pleasant English boardin...   \n",
       "1  The narrative drive of Stowe's classic novel i...   \n",
       "2  The Poisonwood Bible is a story told by the wi...   \n",
       "3  A compulsively readable account of a journey t...   \n",
       "4  Welcome to Battleschool.Growing up is never ea...   \n",
       "\n",
       "                                            imageUrl  \\\n",
       "0  https://images-na.ssl-images-amazon.com/images...   \n",
       "1  https://images-na.ssl-images-amazon.com/images...   \n",
       "2  https://images-na.ssl-images-amazon.com/images...   \n",
       "3  https://images-na.ssl-images-amazon.com/images...   \n",
       "4  https://images-na.ssl-images-amazon.com/images...   \n",
       "\n",
       "                                              genres        asin  \\\n",
       "0  [Adult, Science Fiction, Fiction, Novels, Audi...  1400078776   \n",
       "1  [Classic Literature, American, Fiction, Litera...         NaN   \n",
       "2  [Adult Fiction, Fiction, Literature, Novels, R...         NaN   \n",
       "3  [Nonfiction, Memoir, Politics, Africa, Travel,...  0099494280   \n",
       "4  [Science Fiction Fantasy, Fiction, Science Fic...  B001RKZUHK   \n",
       "\n",
       "                          publisher                   author   publishDate  \\\n",
       "0                    Vintage Books          [Kazuo Ishiguro]  1.283238e+12   \n",
       "1               Wordsworth Classics  [Harriet Beecher Stowe]  9.338364e+11   \n",
       "2  Harper Perennial Modern Classics     [Barbara Kingsolver]  1.117523e+12   \n",
       "3                           Vintage            [Tim Butcher]  1.211872e+12   \n",
       "4                         Starscape       [Orson Scott Card]  1.021792e+12   \n",
       "\n",
       "   ...                                             places  \\\n",
       "0  ...                [Hailsham, England, United Kingdom]   \n",
       "1  ...               [Louisiana, United States, Kentucky]   \n",
       "2  ...  [Sanderling Island, Georgia, Leopoldville, Kil...   \n",
       "3  ...                                            [Congo]   \n",
       "4  ...                         [Rotterdam, Battle School]   \n",
       "\n",
       "                          ratingHistogram ratingsCount  reviewsCount  \\\n",
       "0  [17588, 53364, 171381, 270117, 219792]     732242.0       57475.0   \n",
       "1      [5101, 15300, 53974, 77872, 78723]     230970.0       10096.0   \n",
       "2  [24115, 39666, 115321, 234843, 342623]     756568.0       28599.0   \n",
       "3            [369, 542, 2103, 4488, 4050]      11552.0         845.0   \n",
       "4       [1342, 3889, 21190, 59508, 88217]     174146.0        5922.0   \n",
       "\n",
       "   numPages  language                                             awards  \\\n",
       "0     288.0   English  [{'name': 'Booker Prize', 'awardedAt': 1104566...   \n",
       "1     438.0   English                                                NaN   \n",
       "2     546.0   English  [{'name': 'Pulitzer Prize', 'awardedAt': 91517...   \n",
       "3     363.0   English  [{'name': 'Ryszard Kapuściński Prize', 'awarde...   \n",
       "4     469.0   English  [{'name': 'Locus Award', 'awardedAt': 94671360...   \n",
       "\n",
       "         isbn        isbn13                                             series  \n",
       "0         NaN           NaN                                                NaN  \n",
       "1         NaN           NaN                                                NaN  \n",
       "2         NaN           NaN                                                NaN  \n",
       "3  0099494280  9.780099e+12                                                NaN  \n",
       "4  0765342405  9.780765e+12  [The Enderverse, The Shadow, Enderverse:  Publ...  \n",
       "\n",
       "[5 rows x 21 columns]"
      ]
     },
     "execution_count": 3,
     "metadata": {},
     "output_type": "execute_result"
    }
   ],
   "source": [
    "df.head()"
   ]
  },
  {
   "cell_type": "code",
   "execution_count": 4,
   "metadata": {},
   "outputs": [
    {
     "name": "stdout",
     "output_type": "stream",
     "text": [
      "['Adult', 'Science Fiction', 'Fiction', 'Novels', 'Audiobook', 'Classics', 'Contemporary', 'Romance', 'Literary Fiction', 'Dystopia', 'Classic Literature', 'American', 'Literature', '19th Century', 'School', 'Historical', 'Historical Fiction', 'Adult Fiction', 'Religion', 'Africa', 'Nonfiction', 'Memoir', 'Politics', 'Travel', 'Biography', 'History', 'Adventure', 'Journalism', 'Travelogue', 'Science Fiction Fantasy', 'War', 'Space', 'Young Adult', 'Fantasy', 'Crime', 'Thriller', 'Horror', 'Mystery', 'Suspense', 'Mystery Thriller', 'Holocaust', 'Judaism', 'Jewish', 'British Literature', 'Biography Memoir', 'Books About Books', 'Erotica', 'New Adult', 'Dark', 'Abuse', 'Contemporary Romance', 'Love', 'College', 'Chick Lit', 'Paranormal', 'Magic', 'Witches', 'Cozy Mystery', 'Birds', 'Storytime', 'Animals', 'Nature', 'Childrens', 'Juvenile', 'Picture Books', 'Aliens', 'Paranormal Romance', 'Science Fiction Romance', 'Vampires', 'Ghosts', 'Urban Fantasy', 'Supernatural', 'Medieval', 'Historical Romance', 'Plantagenet', '15th Century', 'Russia', 'Philosophy', 'Russian Literature', 'Gay', 'Queer', 'Coming Of Age', 'LGBT', 'Self Help', 'Entrepreneurship', 'Business', 'Personal Finance', 'Finance', 'Psychology', 'Personal Development', 'Book Club', 'Regency Romance', 'Drama', 'Regency', 'Transport', 'Trucks', 'Kids', 'World War II', 'American History', 'Military Fiction', 'Military History', 'High School', 'Music', 'Speculative Fiction', 'Time Travel', 'Mental Health', 'Humor', 'Buddhism', 'Spirituality', 'Inspirational', '20th Century', 'Nobel Prize', 'Womens Fiction', 'Young Adult Fantasy', 'Angels', 'High Fantasy', 'Italy', 'Italian Literature', 'Teen', 'Action', 'Productivity', 'Health', 'Science', 'Leadership', 'Space Opera', 'Epic Fantasy', 'Epic', 'Banned Books', 'Young Adult Romance', 'Realistic Fiction', 'Young Adult Contemporary', '18th Century', 'English Literature', 'Germany', 'European History', 'Middle Grade', 'Mythology', 'Espionage', 'Halloween', 'Food', 'Sociology', 'Unfinished', 'Egypt', 'Poetry', 'Art', 'New York', 'Autobiography', 'Short Stories', 'Dragons', 'Novella', nan, 'Ghost Stories', 'Retellings', '17th Century', 'Stuart', 'Cultural', 'Chapter Books', 'Zombies', 'Technology', 'Murder Mystery', 'Detective', 'World History', 'France', 'Medieval History', 'Fairy Tales', 'The United States Of America', 'Greek Mythology', 'Polygamy', 'Asia', 'Indian Literature', 'India', 'Shapeshifters', 'Post Apocalyptic', 'Womens', 'How To', 'Education', 'Westerns', 'Arthurian', 'French Literature', 'Catholic', 'Erotic Romance', 'BDSM', 'Mental Illness', 'Survival', 'Futuristic', 'Canada', 'Demons', 'Sweden', 'Sports', 'Economics', 'Money', 'Sudan', 'Romantasy', 'Fantasy Romance', 'Disability', 'Medical', 'Medicine', 'Feminism', 'Ireland', 'Family', 'Werewolves', 'Art History', 'German Literature', 'Comedy', 'Portugal', 'Portuguese Literature', 'Comics', 'Comic Book', 'Graphic Novels', 'Graphic Novels Comics', 'Romantic', 'Apocalyptic', 'Management', 'Fae', 'Historical Fantasy', 'Race', 'Gothic', 'Victorian', 'True Story', 'Lesbian', 'Magical Realism', 'Ancient', 'Cyberpunk', 'Hugo Awards', 'Steampunk', 'Conspiracy Theories', 'Utopia', 'Roman', 'Scandinavian Literature', 'American Civil War', 'Civil War', 'Biology', 'Sustainability', 'Ecology', 'Environment', 'Baseball', 'Southern', 'Southern Gothic', 'Love Story', 'Psychological Thriller', 'Japan', 'Spy Thriller', 'Americana', 'Nigeria', 'Australia', 'Irish Literature', 'Latin American', 'Spanish Literature', 'Plays', 'Theatre', 'Computer Science', 'Society', 'Artificial Intelligence', 'Fairies', 'Historical Mystery', 'African American', 'Dark Fantasy', 'Hockey', 'Sports Romance', '14th Century', 'Christian', 'Christian Living', 'Faith', 'Christianity', 'Theology', 'Japanese Literature', 'Reverse Harem', 'Communication', 'Social', 'Diary', 'Evolution', 'Popular Science', 'Genetics', 'Dogs', 'New Age', 'Scotland', 'Polish Literature', 'Romantic Suspense', 'Asian Literature', 'China', 'Spain', 'Christian Fiction', 'Police', 'Poland', 'Anthologies', 'Legal Thriller', 'Law', 'Canadian Literature', 'Latin American Literature', 'Lovecraftian', 'Weird Fiction', 'Death', 'Fighters', 'Emotion', 'Biblical Fiction', 'Christian Romance', 'Engineering', 'Growth Mindset', 'African Literature', 'Modern Classics', 'Crafts', 'Writing', 'Essays', 'Reference', 'Teaching', 'Folklore', 'Atheism', 'Physics', 'Skepticism', 'Tudor Period', 'South Africa', 'Superheroes', 'Iran', 'Read For School', 'Light Novel', 'Boys Love', 'Greece', 'New Weird', 'Pakistan', 'Sierra Leone', 'Dc Comics', 'Batman', 'Prehistoric', 'Turkish Literature', 'Turkish', 'World War I', 'Architecture', 'Aviation', 'Mathematics', 'Mermaids', 'Native American', 'Fashion', 'Political Science', 'Theory', 'Marriage', 'Relationships', 'Romanticism', 'Noir', 'Outdoors', 'Beauty and The Beast', 'Brazil', 'Horses', 'Christmas', 'Rabbits', 'Danish', 'Denmark', 'Alternate History', 'Cults', 'True Crime', 'Hinduism', 'Fairy Tale Retellings', 'Collections', 'Media Tie In', 'Swedish Literature', 'Liberia', 'Cooking', 'Nutrition', 'Road Trip', 'Anthropology', 'Tragedy', 'Ethiopia', 'Mountaineering', 'Holiday', 'Ancient History', 'Monsters', 'Childrens Classics', 'Church', 'Lds', 'Botswana', 'Robots', 'Psychological Horror', 'Social Justice', 'Social Science', 'Indigenous', 'Astronomy', 'Natural History', 'Presidents', 'American Revolution', 'Eastern Philosophy', 'European Literature', 'Cats', 'Animal Fiction', 'Czech Literature', 'Autistic Spectrum Disorder', 'Counting', 'Unicorns', 'Comic Strips', 'Biblical', 'Dinosaurs', 'Pirates', 'M M Romance', 'Football', 'Young Adult Historical Fiction', 'Gothic Horror', 'Lds Non Fiction', 'Wolves', 'Egyptian Literature', 'Boarding School', 'Israel', 'Algeria', 'M M F', 'Academic', 'Counselling', '13th Century', '16th Century', 'Comic Fantasy', 'Pulp', 'Foodie', 'Food and Drink', 'Modern', '21st Century', 'Occult', 'Hard Boiled', 'Buisness', 'Islam', 'Adoption', 'Morocco', 'Parenting', 'Fostering', 'Pop Culture', 'Brain', 'Cartoon', 'Martial Arts', 'Star Wars', 'Fan Fiction', 'Amazon', 'Design', 'Gender', 'Gender Studies', 'Splatterpunk', 'Dungeons and Dragons', 'Forgotten Realms', 'Academia', 'Wizards', 'Neuroscience', 'Amish', 'Harem', 'Zen', 'Graphic Novels Manga', 'Manga', 'Elves', 'Gods', 'Short Story Collection', 'Time Travel Romance', 'Young Adult Science Fiction', 'Dragonlance', 'Comics Manga', 'Anti Racist', 'Wildlife', 'Adhd', 'Christian Fantasy', 'Dutch Literature', 'Anime', 'Shojo', 'Indonesian Literature', 'Anglo Saxon', 'Nordic Noir', 'Spanish Civil War', 'Chess', 'Futurism', 'Fitness', 'Sword and Sorcery', 'Heroic Fantasy', 'Taoism', 'Ghana', 'Finnish Literature', 'American Revolutionary War', 'Medieval Romance', 'Counter Culture', 'Gaming', 'Games', 'Video Games', 'Game Design', 'Sexuality', 'Metaphysics', 'Ukraine', 'Poverty', 'Social Issues', 'Language', 'Linguistics', 'Menage', 'Russian History', 'Archaeology', 'Kenya', 'Young Adult Paranormal', 'Gardening', 'Christian Non Fiction', 'Shonen', 'Urban Planning', 'Surreal', 'Transgender', 'Geography', 'United States', 'God', 'Prayer', 'Mysticism', 'Vegan', 'Jazz', 'Film', 'Canon', 'Climate Change', 'Musicians', 'Rock N Roll', 'Hard Science Fiction', 'Government', 'Terrorism', 'Psychiatry', 'International Relations', 'Deception', 'Psychoanalysis', 'M F Romance', 'Mixed Martial Arts', '12th Century', 'Art Design', 'Social Work', 'Cult Classics', 'Plants', 'Somalia', 'Belgium', 'Rwanda', 'Maritime', 'Native Americans', 'Mormonism', 'Doctors', 'Poetry Plays', 'Discipleship', 'Lebanon', 'Pre K', 'Cookbooks', 'Photography', 'Christian Historical Fiction', 'Clean Romance', 'Serbian Literature', 'Naval History', 'Bulgarian Literature', 'Favorites', 'Virtual Reality', 'The World', 'International', 'Guidebook', 'Illness', 'Technical', 'Textbooks', 'Slice Of Life', 'Sequential Art', 'Swashbuckling', 'Drawing', 'Queer Lit', 'Marvel', 'Belgian', 'Construction', 'Microhistory', 'Chemistry', 'History Of Science', 'Hungary', 'Cinderella', 'Role Playing Games', 'Military Science Fiction', 'Logic', 'Lenin', 'Josei', 'Bande Dessinée', 'Alchemy', 'Esoterica', 'Occult Detective', 'Literary Criticism', 'Criticism', 'Dying Earth', 'Basketball', 'Motorcycle', 'New Adult Romance', 'Bulgaria', 'Superman', 'Romanovs', 'Western Romance', 'Seinen', 'Gothic Romance', 'Hungarian Literature', 'Wicca', 'Quantum Mechanics', 'Singularity', 'M M Fantasy', 'Lds Fiction', 'Urban', 'Programming', 'Zimbabwe', 'Chinese Literature', 'Classical Studies', 'Asexual', 'African American Literature', 'Palaeontology', 'Comedian', 'Climate Change Fiction', 'Comix', 'Jokes', 'Muslims', 'Romanian Literature', 'Human Development', 'Satanism', '1st Grade', 'Anthropomorphic', 'Food Writing', 'M F M', 'Own', 'Guides', 'Prostitution', 'Cycling', 'Georgian', 'Sci Fi Fantasy', 'Music Biography', 'Activism', 'American Fiction', 'Judaica', 'Banks', 'Harlequin Teen', 'Cthulhu Mythos', 'Witchcraft', 'Love Inspired Historical', 'Love Inspired', '2nd Grade', 'Thelema', 'Magick', 'Romania', 'Us Presidents', 'Marathi', 'Epic Poetry', 'Gay Fiction', 'Latino', 'Geek', 'Genderfluid', 'Victor Frankenstein', 'Divorce', 'Climbing', 'Sao Tome and Principe', 'Knitting', 'Military Romance', 'Walking', 'Journal', 'Journaling', 'Aspergers', 'Manhwa', 'Social Media', 'Paganism', 'Computers', 'Bizarro Fiction', 'Eugenics', 'Albanian Literature', 'Elizabethan Period', 'Princesses', 'Internet', 'Fables', 'Street Art', 'Graffiti', 'Gay For You', 'Cameroon', 'Burundi', 'Culinary', 'Bangladesh', 'Golden Age Mystery', 'Number', 'Wilderness', 'Prehistory', 'Soccer', 'Nursery Rhymes', 'Geometry', 'Recreation', 'French Revolution', 'Dictionaries', 'Racing']\n"
     ]
    }
   ],
   "source": [
    "all_genres = df['genres'].explode().unique().tolist()\n",
    "print(all_genres)"
   ]
  },
  {
   "cell_type": "code",
   "execution_count": null,
   "metadata": {},
   "outputs": [],
   "source": [
    "\n",
    "# Write the list to a JSON file\n",
    "with open(\"genres.json\", \"w\") as file:\n",
    "    json.dump(all_genres, file, indent=4)"
   ]
  },
  {
   "cell_type": "code",
   "execution_count": 5,
   "metadata": {},
   "outputs": [
    {
     "data": {
      "text/plain": [
       "(100, 21)"
      ]
     },
     "execution_count": 5,
     "metadata": {},
     "output_type": "execute_result"
    }
   ],
   "source": [
    "first_100_books_df = df.head(100)\n",
    "first_100_books_df.shape"
   ]
  },
  {
   "cell_type": "code",
   "execution_count": 6,
   "metadata": {},
   "outputs": [
    {
     "data": {
      "text/plain": [
       "Index(['url', 'title', 'titleComplete', 'description', 'imageUrl', 'genres',\n",
       "       'asin', 'publisher', 'author', 'publishDate', 'characters', 'places',\n",
       "       'ratingHistogram', 'ratingsCount', 'reviewsCount', 'numPages',\n",
       "       'language', 'awards', 'isbn', 'isbn13', 'series'],\n",
       "      dtype='object')"
      ]
     },
     "execution_count": 6,
     "metadata": {},
     "output_type": "execute_result"
    }
   ],
   "source": [
    "first_100_books_df.columns"
   ]
  },
  {
   "cell_type": "code",
   "execution_count": 7,
   "metadata": {},
   "outputs": [
    {
     "data": {
      "text/plain": [
       "np.int64(3)"
      ]
     },
     "execution_count": 7,
     "metadata": {},
     "output_type": "execute_result"
    }
   ],
   "source": [
    "first_100_books_df['genres'].isnull().sum() "
   ]
  },
  {
   "cell_type": "code",
   "execution_count": 8,
   "metadata": {},
   "outputs": [
    {
     "name": "stderr",
     "output_type": "stream",
     "text": [
      "C:\\Users\\ADMIN\\AppData\\Local\\Temp\\ipykernel_18108\\629847903.py:1: FutureWarning: A value is trying to be set on a copy of a DataFrame or Series through chained assignment using an inplace method.\n",
      "The behavior will change in pandas 3.0. This inplace method will never work because the intermediate object on which we are setting values always behaves as a copy.\n",
      "\n",
      "For example, when doing 'df[col].method(value, inplace=True)', try using 'df.method({col: value}, inplace=True)' or df[col] = df[col].method(value) instead, to perform the operation inplace on the original object.\n",
      "\n",
      "\n",
      "  first_100_books_df['genres'].fillna('[]', inplace=True)\n",
      "C:\\Users\\ADMIN\\AppData\\Local\\Temp\\ipykernel_18108\\629847903.py:1: SettingWithCopyWarning: \n",
      "A value is trying to be set on a copy of a slice from a DataFrame\n",
      "\n",
      "See the caveats in the documentation: https://pandas.pydata.org/pandas-docs/stable/user_guide/indexing.html#returning-a-view-versus-a-copy\n",
      "  first_100_books_df['genres'].fillna('[]', inplace=True)\n"
     ]
    }
   ],
   "source": [
    "first_100_books_df['genres'].fillna('[]', inplace=True)"
   ]
  },
  {
   "cell_type": "code",
   "execution_count": 9,
   "metadata": {},
   "outputs": [
    {
     "data": {
      "text/html": [
       "<div>\n",
       "<style scoped>\n",
       "    .dataframe tbody tr th:only-of-type {\n",
       "        vertical-align: middle;\n",
       "    }\n",
       "\n",
       "    .dataframe tbody tr th {\n",
       "        vertical-align: top;\n",
       "    }\n",
       "\n",
       "    .dataframe thead th {\n",
       "        text-align: right;\n",
       "    }\n",
       "</style>\n",
       "<table border=\"1\" class=\"dataframe\">\n",
       "  <thead>\n",
       "    <tr style=\"text-align: right;\">\n",
       "      <th></th>\n",
       "      <th>url</th>\n",
       "      <th>title</th>\n",
       "      <th>titleComplete</th>\n",
       "      <th>description</th>\n",
       "      <th>imageUrl</th>\n",
       "      <th>genres</th>\n",
       "      <th>asin</th>\n",
       "      <th>publisher</th>\n",
       "      <th>author</th>\n",
       "      <th>publishDate</th>\n",
       "      <th>...</th>\n",
       "      <th>places</th>\n",
       "      <th>ratingHistogram</th>\n",
       "      <th>ratingsCount</th>\n",
       "      <th>reviewsCount</th>\n",
       "      <th>numPages</th>\n",
       "      <th>language</th>\n",
       "      <th>awards</th>\n",
       "      <th>isbn</th>\n",
       "      <th>isbn13</th>\n",
       "      <th>series</th>\n",
       "    </tr>\n",
       "  </thead>\n",
       "  <tbody>\n",
       "  </tbody>\n",
       "</table>\n",
       "<p>0 rows × 21 columns</p>\n",
       "</div>"
      ],
      "text/plain": [
       "Empty DataFrame\n",
       "Columns: [url, title, titleComplete, description, imageUrl, genres, asin, publisher, author, publishDate, characters, places, ratingHistogram, ratingsCount, reviewsCount, numPages, language, awards, isbn, isbn13, series]\n",
       "Index: []\n",
       "\n",
       "[0 rows x 21 columns]"
      ]
     },
     "execution_count": 9,
     "metadata": {},
     "output_type": "execute_result"
    }
   ],
   "source": [
    "na_genres_df = first_100_books_df[first_100_books_df['genres'].isna()]\n",
    "na_genres_df"
   ]
  },
  {
   "cell_type": "code",
   "execution_count": 10,
   "metadata": {},
   "outputs": [
    {
     "data": {
      "text/plain": [
       "np.int64(0)"
      ]
     },
     "execution_count": 10,
     "metadata": {},
     "output_type": "execute_result"
    }
   ],
   "source": [
    "first_100_books_df['publishDate'].isnull().sum()"
   ]
  },
  {
   "cell_type": "code",
   "execution_count": 13,
   "metadata": {},
   "outputs": [],
   "source": [
    "from datetime import datetime\n",
    "\n",
    "# Select relevant columns for the Book model\n",
    "book_columns = [\n",
    "    'titleComplete', 'description', 'imageUrl', 'publisher', 'author', \n",
    "    'genres', 'publishDate', 'numPages', 'isbn', 'isbn13'\n",
    "]\n",
    "\n",
    "# Filter DataFrame to contain only relevant columns\n",
    "filtered_books_df = first_100_books_df[book_columns].copy()\n",
    "\n",
    "# Define a reasonable date range directly (e.g., only accept dates after 1900)\n",
    "MIN_TIMESTAMP = -2208988800000  # Approximate milliseconds for January 1, 1900\n",
    "\n",
    "# Prepare list to store book records\n",
    "book_records = []\n",
    "\n",
    "for _, row in filtered_books_df.iterrows():\n",
    "    # Check if publishDate is within a reasonable range and convert it\n",
    "    if pd.notnull(row['publishDate']) and isinstance(row['publishDate'], (int, float)) and row['publishDate'] > MIN_TIMESTAMP:\n",
    "        try:\n",
    "            publish_date = datetime.fromtimestamp(row['publishDate'] / 1000).isoformat()\n",
    "        except (OSError, OverflowError, ValueError):\n",
    "            publish_date = None  # Handle any errors in timestamp conversion\n",
    "    else:\n",
    "        publish_date = None\n",
    "    \n",
    "    # Prepare each field for JSON conversion\n",
    "    book_record = {\n",
    "        \"title_complete\": row['titleComplete'],\n",
    "        \"description\": row['description'],\n",
    "        \"image_url\": row['imageUrl'],\n",
    "        \"publisher\": row['publisher'],\n",
    "        \"authors\": row['author'] if isinstance(row['author'], str) else \", \".join(row['author']),\n",
    "        \"genres\": row['genres'] if isinstance(row['genres'], list) else row['genres'].split(', '),\n",
    "        \"publish_date\": publish_date,\n",
    "        \"num_pages\": int(row['numPages']) if pd.notnull(row['numPages']) else None,\n",
    "        \"isbn\": row['isbn'] if pd.notnull(row['isbn']) else None,\n",
    "        \"isbn13\": str(int(row['isbn13'])) if pd.notnull(row['isbn13']) else None,\n",
    "        \"genres_vector\": []  # Placeholder for the genre vector, if needed\n",
    "    }\n",
    "    book_records.append(book_record)\n",
    "\n",
    "# Export to JSON file\n",
    "with open(\"books_data.json\", \"w\") as json_file:\n",
    "    json.dump(book_records, json_file, indent=4)"
   ]
  }
 ],
 "metadata": {
  "kernelspec": {
   "display_name": ".venv",
   "language": "python",
   "name": "python3"
  },
  "language_info": {
   "codemirror_mode": {
    "name": "ipython",
    "version": 3
   },
   "file_extension": ".py",
   "mimetype": "text/x-python",
   "name": "python",
   "nbconvert_exporter": "python",
   "pygments_lexer": "ipython3",
   "version": "3.11.9"
  }
 },
 "nbformat": 4,
 "nbformat_minor": 2
}
